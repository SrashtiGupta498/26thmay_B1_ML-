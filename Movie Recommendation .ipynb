{
 "cells": [
  {
   "cell_type": "markdown",
   "metadata": {},
   "source": [
    "# Movie recommendation project"
   ]
  },
  {
   "cell_type": "code",
   "execution_count": 15,
   "metadata": {},
   "outputs": [],
   "source": [
    "import pandas as pd\n",
    "import warnings\n",
    "import tkinter as tk\n",
    "import warnings\n",
    "warnings.filterwarnings('ignore')"
   ]
  },
  {
   "cell_type": "code",
   "execution_count": null,
   "metadata": {},
   "outputs": [],
   "source": [
    "cols='user_id item_id rating timestamp'.split()\n",
    "df=pd.read_csv('u.data',sep='\\t',names=cols)\n",
    "\n",
    "cols_movies=['item_id','title']+[str(i) for i in range(22)]\n",
    "movie_titles = pd.read_csv('u.item',sep='|',names=cols_movies)\n",
    "movie_titles.head()\n",
    "movie_titles = movie_titles[['item_id','title']]\n",
    "data=pd.merge(df,movie_titles,on='item_id')\n",
    "rating = pd.DataFrame(data.groupby('title')['rating'].mean())\n",
    "rating['count'] = data['title'].value_counts()\n",
    "pivot_df =data.pivot_table(index='user_id',columns='title', values='rating')\n",
    "\n",
    "\n",
    "\n",
    "app=tk.Tk()\n",
    "app.title('Recommendation System')\n",
    "app.geometry('350x200')\n",
    "\n",
    "#Creating Labels\n",
    "tk.Label(app,text='Movie you Watched:',bg='#ffffb3',font=('Roboto Slab',10)).place(x=25,y=25)\n",
    "tk.Label(app,text='Recommended: ',bg='#ffe6ee',font=('Roboto Slab', 10, 'bold')).place(x=25,y=100)\n",
    "tk.Label(app,text='You can also try:',bg='#ffe6ee',font=('Roboto Slab', 10, 'bold')).place(x=25,y=125)\n",
    "\n",
    "movie_var = tk.Variable(app)\n",
    "tk.Entry(app,textvariable=movie_var,width=25).place(x=150,y=25)\n",
    "\n",
    "recommend_var = tk.Variable(app)\n",
    "recommend_var.set('    Enter movie name..')\n",
    "tk.Label(app,textvariable=recommend_var).place(x=150,y=100)\n",
    "\n",
    "you_can_also_try_var = tk.Variable(app)\n",
    "you_can_also_try_var.set('    Enter movie name..')\n",
    "tk.Label(app,textvariable=you_can_also_try_var).place(x=150,y=125)\n",
    "\n",
    "def find_recommendation():\n",
    "    movie=movie_var.get().lower().strip()\n",
    "    try:\n",
    "        movie=movie_titles['title'][movie_titles['title'].apply(lambda x: movie in x.lower())].values[0]\n",
    "        movie_var.set(movie)\n",
    "    except IndexError:\n",
    "        recommend_var.set('    Movie not found')\n",
    "        you_can_also_try_var.set('    Movie not found')\n",
    "    else:\n",
    "        print('Now we will find the suggestions')\n",
    "        corr_df = pd.DataFrame(pivot_df.corrwith(pivot_df[movie]),columns=['Correlation'])\n",
    "        corr_df.dropna(inplace=True)\n",
    "        corr_df =corr_df.join(rating['count'])\n",
    "        recommend_var.set(corr_df[corr_df['count']>200].sort_values(by='Correlation',ascending=False).index[1])\n",
    "        you_can_also_try_var.set(corr_df[corr_df['Correlation']>0.4].sort_values(by='Correlation',ascending=False).index[0])\n",
    "        print(recommend_movie)\n",
    "        print(you_can_also_try)\n",
    "        \n",
    "tk.Button(app,text='Find Suggestion',command=find_recommendation,bg='#1a1aff',fg='#ffffff').place(x=125,y=60)\n",
    "\n",
    "app.mainloop()"
   ]
  },
  {
   "cell_type": "code",
   "execution_count": null,
   "metadata": {},
   "outputs": [],
   "source": []
  }
 ],
 "metadata": {
  "kernelspec": {
   "display_name": "Python 3",
   "language": "python",
   "name": "python3"
  },
  "language_info": {
   "codemirror_mode": {
    "name": "ipython",
    "version": 3
   },
   "file_extension": ".py",
   "mimetype": "text/x-python",
   "name": "python",
   "nbconvert_exporter": "python",
   "pygments_lexer": "ipython3",
   "version": "3.7.6"
  }
 },
 "nbformat": 4,
 "nbformat_minor": 4
}
